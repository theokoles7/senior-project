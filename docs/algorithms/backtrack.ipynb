{
 "cells": [
  {
   "cell_type": "markdown",
   "metadata": {},
   "source": [
    "# Backtrack Algorithm\n",
    "\n",
    "The back track algorithm works by traversing every empty cell in the grid (row by row, column by column) and tests each of the numbers 1 through 9 as valid candidates in the cell. If a number is found to be a valid candidate (meaning that it violates none of the rules of Sudoku), that number is assigned to the cell. If, when the algorithm moves to the next empty cell, there is no valid candidate, that simply means that the number previously entered was an invalid entry after all. The back track mechanism of the algorithm is then utilized to go back to the previous cell and find the next valid candidate before again moving on to the following empty cells."
   ]
  },
  {
   "cell_type": "markdown",
   "metadata": {},
   "source": [
    "## Time Complexity\n",
    "\n",
    "Being that the backtrack algorithm (when applied to Sudoku puzzles) is deterministic, we can estimate the time complexity for any given puzzle rather accurately. Quite simply, it will be the number of elements possible within the puzzle, $k$, to the power of the number of blank cells in the puzzle's prompt, $n$: $O(k^n)$.\n",
    "\n",
    "Notice that Big-O notation is used, because this will be the upper-limit of the backtrack algorithm on any given puzzle. More specifically, when a puzzle prompt is given, without other prior knowledge of the solution, each of the empty cells can possibly hold any possible element of the puzzle when the solution is discovered."
   ]
  },
  {
   "cell_type": "code",
   "execution_count": 3,
   "metadata": {},
   "outputs": [
    {
     "name": "stderr",
     "output_type": "stream",
     "text": [
      "usage: dr-sudoku [-h] [--logging-level {DEBUG,INFO,WARNING,ERROR,CRITICAL}]\n",
      "                 [--logging-path LOGGING_PATH]\n",
      "                 {solve} ...\n",
      "dr-sudoku: error: unrecognized arguments: --f=/home/theokoles/.local/share/jupyter/runtime/kernel-v3133dd56adfbd3546d78f2b7be21bf89568b72546.json\n"
     ]
    },
    {
     "ename": "SystemExit",
     "evalue": "2",
     "output_type": "error",
     "traceback": [
      "An exception has occurred, use %tb to see the full traceback.\n",
      "\u001b[0;31mSystemExit\u001b[0m\u001b[0;31m:\u001b[0m 2\n"
     ]
    }
   ],
   "source": [
    "\"\"\"Initialize & display puzzle prompt.\"\"\"\n",
    "\n",
    "from components import Puzzle\n",
    "\n",
    "# Initialize a puzzle\n",
    "puzzle: Puzzle =    Puzzle(\n",
    "    prompt =    [\n",
    "                    [5, 8, 0, 1, 0, 2, 0, 4, 0],\n",
    "                    [0, 0, 0, 0, 0, 0, 2, 1, 6],\n",
    "                    [9, 1, 0, 7, 0, 4, 0, 0, 3],\n",
    "                    [0, 0, 0, 0, 2, 0, 0, 0, 0],\n",
    "                    [2, 0, 3, 9, 1, 0, 7, 0, 0],\n",
    "                    [7, 9, 0, 0, 0, 3, 4, 0, 5],\n",
    "                    [6, 0, 0, 0, 0, 1, 5, 0, 4],\n",
    "                    [1, 5, 0, 0, 4, 0, 6, 7, 2],\n",
    "                    [3, 0, 0, 2, 0, 0, 0, 8, 9]\n",
    "                ], \n",
    "    elements =  {1, 2, 3, 4, 5, 6, 7, 8, 9}\n",
    ")\n",
    "\n",
    "# Print puzzle prompt\n",
    "print(puzzle)"
   ]
  }
 ],
 "metadata": {
  "kernelspec": {
   "display_name": "sudoku",
   "language": "python",
   "name": "python3"
  },
  "language_info": {
   "codemirror_mode": {
    "name": "ipython",
    "version": 3
   },
   "file_extension": ".py",
   "mimetype": "text/x-python",
   "name": "python",
   "nbconvert_exporter": "python",
   "pygments_lexer": "ipython3",
   "version": "3.12.7"
  }
 },
 "nbformat": 4,
 "nbformat_minor": 2
}
